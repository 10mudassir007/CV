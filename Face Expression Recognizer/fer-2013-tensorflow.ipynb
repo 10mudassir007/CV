{
 "cells": [
  {
   "cell_type": "markdown",
   "id": "0d680515",
   "metadata": {
    "papermill": {
     "duration": 0.003767,
     "end_time": "2025-01-04T16:19:22.817696",
     "exception": false,
     "start_time": "2025-01-04T16:19:22.813929",
     "status": "completed"
    },
    "tags": []
   },
   "source": [
    "# Face Emotion Recognition Tensorflow"
   ]
  },
  {
   "cell_type": "markdown",
   "id": "b8ce9a26",
   "metadata": {
    "papermill": {
     "duration": 0.002656,
     "end_time": "2025-01-04T16:19:22.823477",
     "exception": false,
     "start_time": "2025-01-04T16:19:22.820821",
     "status": "completed"
    },
    "tags": []
   },
   "source": [
    "## Importing Libraries"
   ]
  },
  {
   "cell_type": "code",
   "execution_count": 1,
   "id": "62878d29",
   "metadata": {
    "_cell_guid": "b1076dfc-b9ad-4769-8c92-a6c4dae69d19",
    "_uuid": "8f2839f25d086af736a60e9eeb907d3b93b6e0e5",
    "execution": {
     "iopub.execute_input": "2025-01-04T16:19:22.830352Z",
     "iopub.status.busy": "2025-01-04T16:19:22.830116Z",
     "iopub.status.idle": "2025-01-04T16:19:30.060500Z",
     "shell.execute_reply": "2025-01-04T16:19:30.059838Z"
    },
    "papermill": {
     "duration": 7.235306,
     "end_time": "2025-01-04T16:19:30.061957",
     "exception": false,
     "start_time": "2025-01-04T16:19:22.826651",
     "status": "completed"
    },
    "tags": []
   },
   "outputs": [],
   "source": [
    "import os\n",
    "import cv2\n",
    "import numpy as np\n",
    "import matplotlib.pyplot as plt\n",
    "import random\n",
    "from collections import Counter\n",
    "import tensorflow as tf\n",
    "from tensorflow.keras.preprocessing import image_dataset_from_directory as LoadImgs\n",
    "from tensorflow.keras.models import Sequential\n",
    "from tensorflow.keras.layers import Dense,Flatten,Conv2D,MaxPool2D,Dropout\n",
    "from tensorflow.keras.optimizers import Adam\n",
    "from tensorflow.keras.utils import plot_model"
   ]
  },
  {
   "cell_type": "markdown",
   "id": "f44a2b9a",
   "metadata": {
    "papermill": {
     "duration": 0.002917,
     "end_time": "2025-01-04T16:19:30.068065",
     "exception": false,
     "start_time": "2025-01-04T16:19:30.065148",
     "status": "completed"
    },
    "tags": []
   },
   "source": [
    "## Loading Images"
   ]
  },
  {
   "cell_type": "code",
   "execution_count": 2,
   "id": "6703cb12",
   "metadata": {
    "execution": {
     "iopub.execute_input": "2025-01-04T16:19:30.074787Z",
     "iopub.status.busy": "2025-01-04T16:19:30.074341Z",
     "iopub.status.idle": "2025-01-04T16:19:30.079444Z",
     "shell.execute_reply": "2025-01-04T16:19:30.078837Z"
    },
    "papermill": {
     "duration": 0.009681,
     "end_time": "2025-01-04T16:19:30.080625",
     "exception": false,
     "start_time": "2025-01-04T16:19:30.070944",
     "status": "completed"
    },
    "tags": []
   },
   "outputs": [],
   "source": [
    "def load_img(path):\n",
    "    img = cv2.imread(path)\n",
    "    img = cv2.cvtColor(img,cv2.COLOR_BGR2RGB)\n",
    "    img = img/255.0\n",
    "    return img\n",
    "\n",
    "def load_imgs(path):\n",
    "    imgs,labels = [],[]\n",
    "    for label in os.listdir(path):\n",
    "        label_path = os.path.join(path,label)\n",
    "        for img in os.listdir(label_path):\n",
    "            img_path = os.path.join(label_path,img)\n",
    "            imgs.append(load_img(img_path))\n",
    "            labels.append(label)\n",
    "    imgs = np.array(imgs)\n",
    "    labels = np.array(labels)\n",
    "    return imgs,labels\n",
    "    \n",
    "def plot_img(img):\n",
    "    plt.imshow(img)\n",
    "    plt.axis('off')"
   ]
  },
  {
   "cell_type": "code",
   "execution_count": 3,
   "id": "3ddd5204",
   "metadata": {
    "execution": {
     "iopub.execute_input": "2025-01-04T16:19:30.087257Z",
     "iopub.status.busy": "2025-01-04T16:19:30.087030Z",
     "iopub.status.idle": "2025-01-04T16:21:42.646013Z",
     "shell.execute_reply": "2025-01-04T16:21:42.645017Z"
    },
    "papermill": {
     "duration": 132.564251,
     "end_time": "2025-01-04T16:21:42.647798",
     "exception": false,
     "start_time": "2025-01-04T16:19:30.083547",
     "status": "completed"
    },
    "tags": []
   },
   "outputs": [],
   "source": [
    "train_path = \"/kaggle/input/fer2013/train\"\n",
    "test_path = \"/kaggle/input/fer2013/test\"\n",
    "\n",
    "train_images_,train_labels_ = load_imgs(train_path)  \n",
    "test_images_,test_labels_ = load_imgs(test_path)"
   ]
  },
  {
   "cell_type": "code",
   "execution_count": 4,
   "id": "a3a87b44",
   "metadata": {
    "_kg_hide-input": false,
    "execution": {
     "iopub.execute_input": "2025-01-04T16:21:42.655415Z",
     "iopub.status.busy": "2025-01-04T16:21:42.655185Z",
     "iopub.status.idle": "2025-01-04T16:21:42.849295Z",
     "shell.execute_reply": "2025-01-04T16:21:42.847987Z"
    },
    "papermill": {
     "duration": 0.200246,
     "end_time": "2025-01-04T16:21:42.851782",
     "exception": false,
     "start_time": "2025-01-04T16:21:42.651536",
     "status": "completed"
    },
    "tags": []
   },
   "outputs": [
    {
     "data": {
      "text/plain": [
       "([<matplotlib.patches.Wedge at 0x7db79c9d94b0>,\n",
       "  <matplotlib.patches.Wedge at 0x7db79c9d93f0>,\n",
       "  <matplotlib.patches.Wedge at 0x7db79c9da1a0>,\n",
       "  <matplotlib.patches.Wedge at 0x7db79c9da830>,\n",
       "  <matplotlib.patches.Wedge at 0x7db79c9daec0>,\n",
       "  <matplotlib.patches.Wedge at 0x7db79c9db550>,\n",
       "  <matplotlib.patches.Wedge at 0x7db79c9dba90>],\n",
       " [Text(1.033181655579577, 0.37753896033898915, 'surprise'),\n",
       "  Text(0.4503612207773202, 1.0035809737235766, 'fear'),\n",
       "  Text(-0.48841490537982485, 0.9856220777776931, 'angry'),\n",
       "  Text(-1.090057847471277, 0.14755978166928246, 'neutral'),\n",
       "  Text(-0.6487509407247235, -0.888325512922367, 'sad'),\n",
       "  Text(-0.05597160493309147, -1.0985750677314745, 'disgust'),\n",
       "  Text(0.7766419952084956, -0.7789911496792291, 'happy')],\n",
       " [Text(0.5635536303161328, 0.205930342003085, '11.2%'),\n",
       "  Text(0.24565157496944737, 0.5474078038492235, '14.3%'),\n",
       "  Text(-0.26640813020717713, 0.5376120424241961, '13.8%'),\n",
       "  Text(-0.5945770077116056, 0.08048715363779042, '17.3%'),\n",
       "  Text(-0.35386414948621275, -0.48454118886674563, '16.9%'),\n",
       "  Text(-0.0305299663271408, -0.5992227642171679, '1.5%'),\n",
       "  Text(0.4236229064773612, -0.4249042634613977, '25.0%')])"
      ]
     },
     "execution_count": 4,
     "metadata": {},
     "output_type": "execute_result"
    },
    {
     "data": {
      "image/png": "[encoded data removed]",
      "text/plain": [
       "<Figure size 640x480 with 1 Axes>"
      ]
     },
     "metadata": {},
     "output_type": "display_data"
    }
   ],
   "source": [
    "labels = np.concatenate((train_labels_,test_labels_))\n",
    "classes_dict = Counter(labels)\n",
    "plt.pie( classes_dict.values(),labels=classes_dict.keys(),autopct='%.1f%%')"
   ]
  },
  {
   "cell_type": "markdown",
   "id": "cf043bf3",
   "metadata": {
    "papermill": {
     "duration": 0.010405,
     "end_time": "2025-01-04T16:21:42.872963",
     "exception": false,
     "start_time": "2025-01-04T16:21:42.862558",
     "status": "completed"
    },
    "tags": []
   },
   "source": [
    "## Visualizing Images"
   ]
  },
  {
   "cell_type": "code",
   "execution_count": 5,
   "id": "5463971d",
   "metadata": {
    "execution": {
     "iopub.execute_input": "2025-01-04T16:21:42.894856Z",
     "iopub.status.busy": "2025-01-04T16:21:42.894395Z",
     "iopub.status.idle": "2025-01-04T16:21:42.900658Z",
     "shell.execute_reply": "2025-01-04T16:21:42.899342Z"
    },
    "papermill": {
     "duration": 0.019536,
     "end_time": "2025-01-04T16:21:42.902816",
     "exception": false,
     "start_time": "2025-01-04T16:21:42.883280",
     "status": "completed"
    },
    "tags": []
   },
   "outputs": [],
   "source": [
    "# label_indexes = random.sample(range(len(train_labels)),6)\n",
    "# imgs = [train_images[i] for i in label_indexes]\n",
    "# labels = [train_labels[i] for i in label_indexes]\n",
    "\n",
    "# Plot the images with their labels\n",
    "# fig, axes = plt.subplots(2, 3, figsize=(15, 8))\n",
    "# axes = axes.flatten()\n",
    "\n",
    "# for i in range(len(imgs)):\n",
    "#     axes[i].imshow(imgs[i])\n",
    "#     axes[i].set_title(labels[i])  # Set the title to the corresponding label\n",
    "#     axes[i].axis('off')\n",
    "\n",
    "# plt.tight_layout()\n",
    "# plt.show()"
   ]
  },
  {
   "cell_type": "code",
   "execution_count": 6,
   "id": "4b122bf8",
   "metadata": {
    "execution": {
     "iopub.execute_input": "2025-01-04T16:21:42.917842Z",
     "iopub.status.busy": "2025-01-04T16:21:42.917605Z",
     "iopub.status.idle": "2025-01-04T16:21:51.736648Z",
     "shell.execute_reply": "2025-01-04T16:21:51.736009Z"
    },
    "papermill": {
     "duration": 8.825115,
     "end_time": "2025-01-04T16:21:51.738145",
     "exception": false,
     "start_time": "2025-01-04T16:21:42.913030",
     "status": "completed"
    },
    "tags": []
   },
   "outputs": [
    {
     "name": "stdout",
     "output_type": "stream",
     "text": [
      "Found 28709 files belonging to 7 classes.\n",
      "Found 7178 files belonging to 7 classes.\n"
     ]
    }
   ],
   "source": [
    "normalize = lambda x,y:(tf.cast(x, tf.float32)/255.0,y) \n",
    "batch_size=16\n",
    "train_images = LoadImgs(\n",
    "    train_path,\n",
    "    seed=432,\n",
    "    color_mode='grayscale',  \n",
    "    batch_size=batch_size,\n",
    "    label_mode='categorical',\n",
    "    image_size=(48, 48),\n",
    "    shuffle=True\n",
    ")\n",
    "\n",
    "test_images = LoadImgs(\n",
    "    test_path,\n",
    "    seed=432,\n",
    "    image_size=(48, 48),\n",
    "    color_mode='grayscale',  \n",
    "    batch_size=batch_size,\n",
    "    label_mode='categorical'\n",
    ")\n",
    "train_images = train_images.map(normalize)\n",
    "test_images = test_images.map(normalize)"
   ]
  },
  {
   "cell_type": "markdown",
   "id": "d66ee7ab",
   "metadata": {
    "papermill": {
     "duration": 0.003585,
     "end_time": "2025-01-04T16:21:51.745974",
     "exception": false,
     "start_time": "2025-01-04T16:21:51.742389",
     "status": "completed"
    },
    "tags": []
   },
   "source": [
    "## Model Building and Training"
   ]
  },
  {
   "cell_type": "code",
   "execution_count": 7,
   "id": "ec399914",
   "metadata": {
    "execution": {
     "iopub.execute_input": "2025-01-04T16:21:51.754163Z",
     "iopub.status.busy": "2025-01-04T16:21:51.753922Z",
     "iopub.status.idle": "2025-01-04T16:21:51.848577Z",
     "shell.execute_reply": "2025-01-04T16:21:51.847605Z"
    },
    "papermill": {
     "duration": 0.100347,
     "end_time": "2025-01-04T16:21:51.849940",
     "exception": false,
     "start_time": "2025-01-04T16:21:51.749593",
     "status": "completed"
    },
    "tags": []
   },
   "outputs": [
    {
     "name": "stderr",
     "output_type": "stream",
     "text": [
      "/usr/local/lib/python3.10/dist-packages/keras/src/layers/convolutional/base_conv.py:107: UserWarning: Do not pass an `input_shape`/`input_dim` argument to a layer. When using Sequential models, prefer using an `Input(shape)` object as the first layer in the model instead.\n",
      "  super().__init__(activity_regularizer=activity_regularizer, **kwargs)\n"
     ]
    }
   ],
   "source": [
    "model = Sequential([\n",
    "    Conv2D(64,(3,3),activation='relu',input_shape=(48,48,1)),\n",
    "    MaxPool2D((2,2)),\n",
    "    Dropout(0.3),\n",
    "    Conv2D(128,(7,7),activation='relu'),\n",
    "    MaxPool2D((2,2)),\n",
    "    Dropout(0.3),\n",
    "    Conv2D(128,(7,7),activation='relu'),\n",
    "    MaxPool2D((2,2)),\n",
    "    Dropout(0.3),\n",
    "    Flatten(),\n",
    "    Dense(512,activation='relu'),\n",
    "    Dense(7,activation='softmax')\n",
    "])\n",
    "model.compile(loss='categorical_crossentropy',optimizer=Adam(learning_rate=0.001),metrics=['accuracy'])"
   ]
  },
  {
   "cell_type": "code",
   "execution_count": 8,
   "id": "c0fe8492",
   "metadata": {
    "execution": {
     "iopub.execute_input": "2025-01-04T16:21:51.858436Z",
     "iopub.status.busy": "2025-01-04T16:21:51.858228Z",
     "iopub.status.idle": "2025-01-04T16:21:51.877417Z",
     "shell.execute_reply": "2025-01-04T16:21:51.876792Z"
    },
    "papermill": {
     "duration": 0.024683,
     "end_time": "2025-01-04T16:21:51.878638",
     "exception": false,
     "start_time": "2025-01-04T16:21:51.853955",
     "status": "completed"
    },
    "tags": []
   },
   "outputs": [
    {
     "data": {
      "text/html": [
       "<pre style=\"white-space:pre;overflow-x:auto;line-height:normal;font-family:Menlo,'DejaVu Sans Mono',consolas,'Courier New',monospace\"><span style=\"font-weight: bold\">Model: \"sequential\"</span>\n",
       "</pre>\n"
      ],
      "text/plain": [
       "\u001b[1mModel: \"sequential\"\u001b[0m\n"
      ]
     },
     "metadata": {},
     "output_type": "display_data"
    },
    {
     "data": {
      "text/html": [
       "<pre style=\"white-space:pre;overflow-x:auto;line-height:normal;font-family:Menlo,'DejaVu Sans Mono',consolas,'Courier New',monospace\">┏━━━━━━━━━━━━━━━━━━━━━━━━━━━━━━━━━━━━━━┳━━━━━━━━━━━━━━━━━━━━━━━━━━━━━┳━━━━━━━━━━━━━━━━━┓\n",
       "┃<span style=\"font-weight: bold\"> Layer (type)                         </span>┃<span style=\"font-weight: bold\"> Output Shape                </span>┃<span style=\"font-weight: bold\">         Param # </span>┃\n",
       "┡━━━━━━━━━━━━━━━━━━━━━━━━━━━━━━━━━━━━━━╇━━━━━━━━━━━━━━━━━━━━━━━━━━━━━╇━━━━━━━━━━━━━━━━━┩\n",
       "│ conv2d (<span style=\"color: #0087ff; text-decoration-color: #0087ff\">Conv2D</span>)                      │ (<span style=\"color: #00d7ff; text-decoration-color: #00d7ff\">None</span>, <span style=\"color: #00af00; text-decoration-color: #00af00\">46</span>, <span style=\"color: #00af00; text-decoration-color: #00af00\">46</span>, <span style=\"color: #00af00; text-decoration-color: #00af00\">64</span>)          │             <span style=\"color: #00af00; text-decoration-color: #00af00\">640</span> │\n",
       "├──────────────────────────────────────┼─────────────────────────────┼─────────────────┤\n",
       "│ max_pooling2d (<span style=\"color: #0087ff; text-decoration-color: #0087ff\">MaxPooling2D</span>)         │ (<span style=\"color: #00d7ff; text-decoration-color: #00d7ff\">None</span>, <span style=\"color: #00af00; text-decoration-color: #00af00\">23</span>, <span style=\"color: #00af00; text-decoration-color: #00af00\">23</span>, <span style=\"color: #00af00; text-decoration-color: #00af00\">64</span>)          │               <span style=\"color: #00af00; text-decoration-color: #00af00\">0</span> │\n",
       "├──────────────────────────────────────┼─────────────────────────────┼─────────────────┤\n",
       "│ dropout (<span style=\"color: #0087ff; text-decoration-color: #0087ff\">Dropout</span>)                    │ (<span style=\"color: #00d7ff; text-decoration-color: #00d7ff\">None</span>, <span style=\"color: #00af00; text-decoration-color: #00af00\">23</span>, <span style=\"color: #00af00; text-decoration-color: #00af00\">23</span>, <span style=\"color: #00af00; text-decoration-color: #00af00\">64</span>)          │               <span style=\"color: #00af00; text-decoration-color: #00af00\">0</span> │\n",
       "├──────────────────────────────────────┼─────────────────────────────┼─────────────────┤\n",
       "│ conv2d_1 (<span style=\"color: #0087ff; text-decoration-color: #0087ff\">Conv2D</span>)                    │ (<span style=\"color: #00d7ff; text-decoration-color: #00d7ff\">None</span>, <span style=\"color: #00af00; text-decoration-color: #00af00\">17</span>, <span style=\"color: #00af00; text-decoration-color: #00af00\">17</span>, <span style=\"color: #00af00; text-decoration-color: #00af00\">128</span>)         │         <span style=\"color: #00af00; text-decoration-color: #00af00\">401,536</span> │\n",
       "├──────────────────────────────────────┼─────────────────────────────┼─────────────────┤\n",
       "│ max_pooling2d_1 (<span style=\"color: #0087ff; text-decoration-color: #0087ff\">MaxPooling2D</span>)       │ (<span style=\"color: #00d7ff; text-decoration-color: #00d7ff\">None</span>, <span style=\"color: #00af00; text-decoration-color: #00af00\">8</span>, <span style=\"color: #00af00; text-decoration-color: #00af00\">8</span>, <span style=\"color: #00af00; text-decoration-color: #00af00\">128</span>)           │               <span style=\"color: #00af00; text-decoration-color: #00af00\">0</span> │\n",
       "├──────────────────────────────────────┼─────────────────────────────┼─────────────────┤\n",
       "│ dropout_1 (<span style=\"color: #0087ff; text-decoration-color: #0087ff\">Dropout</span>)                  │ (<span style=\"color: #00d7ff; text-decoration-color: #00d7ff\">None</span>, <span style=\"color: #00af00; text-decoration-color: #00af00\">8</span>, <span style=\"color: #00af00; text-decoration-color: #00af00\">8</span>, <span style=\"color: #00af00; text-decoration-color: #00af00\">128</span>)           │               <span style=\"color: #00af00; text-decoration-color: #00af00\">0</span> │\n",
       "├──────────────────────────────────────┼─────────────────────────────┼─────────────────┤\n",
       "│ conv2d_2 (<span style=\"color: #0087ff; text-decoration-color: #0087ff\">Conv2D</span>)                    │ (<span style=\"color: #00d7ff; text-decoration-color: #00d7ff\">None</span>, <span style=\"color: #00af00; text-decoration-color: #00af00\">2</span>, <span style=\"color: #00af00; text-decoration-color: #00af00\">2</span>, <span style=\"color: #00af00; text-decoration-color: #00af00\">128</span>)           │         <span style=\"color: #00af00; text-decoration-color: #00af00\">802,944</span> │\n",
       "├──────────────────────────────────────┼─────────────────────────────┼─────────────────┤\n",
       "│ max_pooling2d_2 (<span style=\"color: #0087ff; text-decoration-color: #0087ff\">MaxPooling2D</span>)       │ (<span style=\"color: #00d7ff; text-decoration-color: #00d7ff\">None</span>, <span style=\"color: #00af00; text-decoration-color: #00af00\">1</span>, <span style=\"color: #00af00; text-decoration-color: #00af00\">1</span>, <span style=\"color: #00af00; text-decoration-color: #00af00\">128</span>)           │               <span style=\"color: #00af00; text-decoration-color: #00af00\">0</span> │\n",
       "├──────────────────────────────────────┼─────────────────────────────┼─────────────────┤\n",
       "│ dropout_2 (<span style=\"color: #0087ff; text-decoration-color: #0087ff\">Dropout</span>)                  │ (<span style=\"color: #00d7ff; text-decoration-color: #00d7ff\">None</span>, <span style=\"color: #00af00; text-decoration-color: #00af00\">1</span>, <span style=\"color: #00af00; text-decoration-color: #00af00\">1</span>, <span style=\"color: #00af00; text-decoration-color: #00af00\">128</span>)           │               <span style=\"color: #00af00; text-decoration-color: #00af00\">0</span> │\n",
       "├──────────────────────────────────────┼─────────────────────────────┼─────────────────┤\n",
       "│ flatten (<span style=\"color: #0087ff; text-decoration-color: #0087ff\">Flatten</span>)                    │ (<span style=\"color: #00d7ff; text-decoration-color: #00d7ff\">None</span>, <span style=\"color: #00af00; text-decoration-color: #00af00\">128</span>)                 │               <span style=\"color: #00af00; text-decoration-color: #00af00\">0</span> │\n",
       "├──────────────────────────────────────┼─────────────────────────────┼─────────────────┤\n",
       "│ dense (<span style=\"color: #0087ff; text-decoration-color: #0087ff\">Dense</span>)                        │ (<span style=\"color: #00d7ff; text-decoration-color: #00d7ff\">None</span>, <span style=\"color: #00af00; text-decoration-color: #00af00\">512</span>)                 │          <span style=\"color: #00af00; text-decoration-color: #00af00\">66,048</span> │\n",
       "├──────────────────────────────────────┼─────────────────────────────┼─────────────────┤\n",
       "│ dense_1 (<span style=\"color: #0087ff; text-decoration-color: #0087ff\">Dense</span>)                      │ (<span style=\"color: #00d7ff; text-decoration-color: #00d7ff\">None</span>, <span style=\"color: #00af00; text-decoration-color: #00af00\">7</span>)                   │           <span style=\"color: #00af00; text-decoration-color: #00af00\">3,591</span> │\n",
       "└──────────────────────────────────────┴─────────────────────────────┴─────────────────┘\n",
       "</pre>\n"
      ],
      "text/plain": [
       "┏━━━━━━━━━━━━━━━━━━━━━━━━━━━━━━━━━━━━━━┳━━━━━━━━━━━━━━━━━━━━━━━━━━━━━┳━━━━━━━━━━━━━━━━━┓\n",
       "┃\u001b[1m \u001b[0m\u001b[1mLayer (type)                        \u001b[0m\u001b[1m \u001b[0m┃\u001b[1m \u001b[0m\u001b[1mOutput Shape               \u001b[0m\u001b[1m \u001b[0m┃\u001b[1m \u001b[0m\u001b[1m        Param #\u001b[0m\u001b[1m \u001b[0m┃\n",
       "┡━━━━━━━━━━━━━━━━━━━━━━━━━━━━━━━━━━━━━━╇━━━━━━━━━━━━━━━━━━━━━━━━━━━━━╇━━━━━━━━━━━━━━━━━┩\n",
       "│ conv2d (\u001b[38;5;33mConv2D\u001b[0m)                      │ (\u001b[38;5;45mNone\u001b[0m, \u001b[38;5;34m46\u001b[0m, \u001b[38;5;34m46\u001b[0m, \u001b[38;5;34m64\u001b[0m)          │             \u001b[38;5;34m640\u001b[0m │\n",
       "├──────────────────────────────────────┼─────────────────────────────┼─────────────────┤\n",
       "│ max_pooling2d (\u001b[38;5;33mMaxPooling2D\u001b[0m)         │ (\u001b[38;5;45mNone\u001b[0m, \u001b[38;5;34m23\u001b[0m, \u001b[38;5;34m23\u001b[0m, \u001b[38;5;34m64\u001b[0m)          │               \u001b[38;5;34m0\u001b[0m │\n",
       "├──────────────────────────────────────┼─────────────────────────────┼─────────────────┤\n",
       "│ dropout (\u001b[38;5;33mDropout\u001b[0m)                    │ (\u001b[38;5;45mNone\u001b[0m, \u001b[38;5;34m23\u001b[0m, \u001b[38;5;34m23\u001b[0m, \u001b[38;5;34m64\u001b[0m)          │               \u001b[38;5;34m0\u001b[0m │\n",
       "├──────────────────────────────────────┼─────────────────────────────┼─────────────────┤\n",
       "│ conv2d_1 (\u001b[38;5;33mConv2D\u001b[0m)                    │ (\u001b[38;5;45mNone\u001b[0m, \u001b[38;5;34m17\u001b[0m, \u001b[38;5;34m17\u001b[0m, \u001b[38;5;34m128\u001b[0m)         │         \u001b[38;5;34m401,536\u001b[0m │\n",
       "├──────────────────────────────────────┼─────────────────────────────┼─────────────────┤\n",
       "│ max_pooling2d_1 (\u001b[38;5;33mMaxPooling2D\u001b[0m)       │ (\u001b[38;5;45mNone\u001b[0m, \u001b[38;5;34m8\u001b[0m, \u001b[38;5;34m8\u001b[0m, \u001b[38;5;34m128\u001b[0m)           │               \u001b[38;5;34m0\u001b[0m │\n",
       "├──────────────────────────────────────┼─────────────────────────────┼─────────────────┤\n",
       "│ dropout_1 (\u001b[38;5;33mDropout\u001b[0m)                  │ (\u001b[38;5;45mNone\u001b[0m, \u001b[38;5;34m8\u001b[0m, \u001b[38;5;34m8\u001b[0m, \u001b[38;5;34m128\u001b[0m)           │               \u001b[38;5;34m0\u001b[0m │\n",
       "├──────────────────────────────────────┼─────────────────────────────┼─────────────────┤\n",
       "│ conv2d_2 (\u001b[38;5;33mConv2D\u001b[0m)                    │ (\u001b[38;5;45mNone\u001b[0m, \u001b[38;5;34m2\u001b[0m, \u001b[38;5;34m2\u001b[0m, \u001b[38;5;34m128\u001b[0m)           │         \u001b[38;5;34m802,944\u001b[0m │\n",
       "├──────────────────────────────────────┼─────────────────────────────┼─────────────────┤\n",
       "│ max_pooling2d_2 (\u001b[38;5;33mMaxPooling2D\u001b[0m)       │ (\u001b[38;5;45mNone\u001b[0m, \u001b[38;5;34m1\u001b[0m, \u001b[38;5;34m1\u001b[0m, \u001b[38;5;34m128\u001b[0m)           │               \u001b[38;5;34m0\u001b[0m │\n",
       "├──────────────────────────────────────┼─────────────────────────────┼─────────────────┤\n",
       "│ dropout_2 (\u001b[38;5;33mDropout\u001b[0m)                  │ (\u001b[38;5;45mNone\u001b[0m, \u001b[38;5;34m1\u001b[0m, \u001b[38;5;34m1\u001b[0m, \u001b[38;5;34m128\u001b[0m)           │               \u001b[38;5;34m0\u001b[0m │\n",
       "├──────────────────────────────────────┼─────────────────────────────┼─────────────────┤\n",
       "│ flatten (\u001b[38;5;33mFlatten\u001b[0m)                    │ (\u001b[38;5;45mNone\u001b[0m, \u001b[38;5;34m128\u001b[0m)                 │               \u001b[38;5;34m0\u001b[0m │\n",
       "├──────────────────────────────────────┼─────────────────────────────┼─────────────────┤\n",
       "│ dense (\u001b[38;5;33mDense\u001b[0m)                        │ (\u001b[38;5;45mNone\u001b[0m, \u001b[38;5;34m512\u001b[0m)                 │          \u001b[38;5;34m66,048\u001b[0m │\n",
       "├──────────────────────────────────────┼─────────────────────────────┼─────────────────┤\n",
       "│ dense_1 (\u001b[38;5;33mDense\u001b[0m)                      │ (\u001b[38;5;45mNone\u001b[0m, \u001b[38;5;34m7\u001b[0m)                   │           \u001b[38;5;34m3,591\u001b[0m │\n",
       "└──────────────────────────────────────┴─────────────────────────────┴─────────────────┘\n"
      ]
     },
     "metadata": {},
     "output_type": "display_data"
    },
    {
     "data": {
      "text/html": [
       "<pre style=\"white-space:pre;overflow-x:auto;line-height:normal;font-family:Menlo,'DejaVu Sans Mono',consolas,'Courier New',monospace\"><span style=\"font-weight: bold\"> Total params: </span><span style=\"color: #00af00; text-decoration-color: #00af00\">1,274,759</span> (4.86 MB)\n",
       "</pre>\n"
      ],
      "text/plain": [
       "\u001b[1m Total params: \u001b[0m\u001b[38;5;34m1,274,759\u001b[0m (4.86 MB)\n"
      ]
     },
     "metadata": {},
     "output_type": "display_data"
    },
    {
     "data": {
      "text/html": [
       "<pre style=\"white-space:pre;overflow-x:auto;line-height:normal;font-family:Menlo,'DejaVu Sans Mono',consolas,'Courier New',monospace\"><span style=\"font-weight: bold\"> Trainable params: </span><span style=\"color: #00af00; text-decoration-color: #00af00\">1,274,759</span> (4.86 MB)\n",
       "</pre>\n"
      ],
      "text/plain": [
       "\u001b[1m Trainable params: \u001b[0m\u001b[38;5;34m1,274,759\u001b[0m (4.86 MB)\n"
      ]
     },
     "metadata": {},
     "output_type": "display_data"
    },
    {
     "data": {
      "text/html": [
       "<pre style=\"white-space:pre;overflow-x:auto;line-height:normal;font-family:Menlo,'DejaVu Sans Mono',consolas,'Courier New',monospace\"><span style=\"font-weight: bold\"> Non-trainable params: </span><span style=\"color: #00af00; text-decoration-color: #00af00\">0</span> (0.00 B)\n",
       "</pre>\n"
      ],
      "text/plain": [
       "\u001b[1m Non-trainable params: \u001b[0m\u001b[38;5;34m0\u001b[0m (0.00 B)\n"
      ]
     },
     "metadata": {},
     "output_type": "display_data"
    }
   ],
   "source": [
    "model.summary()"
   ]
  },
  {
   "cell_type": "code",
   "execution_count": 9,
   "id": "1020a4f6",
   "metadata": {
    "execution": {
     "iopub.execute_input": "2025-01-04T16:21:51.888184Z",
     "iopub.status.busy": "2025-01-04T16:21:51.887974Z",
     "iopub.status.idle": "2025-01-04T16:21:52.156394Z",
     "shell.execute_reply": "2025-01-04T16:21:52.155605Z"
    },
    "papermill": {
     "duration": 0.274784,
     "end_time": "2025-01-04T16:21:52.157969",
     "exception": false,
     "start_time": "2025-01-04T16:21:51.883185",
     "status": "completed"
    },
    "tags": []
   },
   "outputs": [
    {
     "data": {
      "image/png": "[encoded data removed]",
      "text/plain": [
       "<IPython.core.display.Image object>"
      ]
     },
     "execution_count": 9,
     "metadata": {},
     "output_type": "execute_result"
    }
   ],
   "source": [
    "plot_model(model)"
   ]
  },
  {
   "cell_type": "code",
   "execution_count": 10,
   "id": "7d001b67",
   "metadata": {
    "execution": {
     "iopub.execute_input": "2025-01-04T16:21:52.170495Z",
     "iopub.status.busy": "2025-01-04T16:21:52.170256Z",
     "iopub.status.idle": "2025-01-04T16:21:52.173576Z",
     "shell.execute_reply": "2025-01-04T16:21:52.172932Z"
    },
    "papermill": {
     "duration": 0.010658,
     "end_time": "2025-01-04T16:21:52.174649",
     "exception": false,
     "start_time": "2025-01-04T16:21:52.163991",
     "status": "completed"
    },
    "tags": []
   },
   "outputs": [],
   "source": [
    "callback = tf.keras.callbacks.EarlyStopping(monitor='val_loss', mode='min', verbose=1, patience=5,baseline=0.4,min_delta=0.0001,restore_best_weights=True)"
   ]
  },
  {
   "cell_type": "code",
   "execution_count": 11,
   "id": "b3d74e5e",
   "metadata": {
    "execution": {
     "iopub.execute_input": "2025-01-04T16:21:52.186697Z",
     "iopub.status.busy": "2025-01-04T16:21:52.186497Z",
     "iopub.status.idle": "2025-01-04T16:26:51.190022Z",
     "shell.execute_reply": "2025-01-04T16:26:51.189096Z"
    },
    "papermill": {
     "duration": 299.011013,
     "end_time": "2025-01-04T16:26:51.191306",
     "exception": false,
     "start_time": "2025-01-04T16:21:52.180293",
     "status": "completed"
    },
    "tags": []
   },
   "outputs": [
    {
     "name": "stdout",
     "output_type": "stream",
     "text": [
      "Epoch 1/30\n",
      "\u001b[1m1795/1795\u001b[0m \u001b[32m━━━━━━━━━━━━━━━━━━━━\u001b[0m\u001b[37m\u001b[0m \u001b[1m20s\u001b[0m 8ms/step - accuracy: 0.2603 - loss: 1.8002 - val_accuracy: 0.3706 - val_loss: 1.5804\n",
      "Epoch 2/30\n",
      "\u001b[1m1795/1795\u001b[0m \u001b[32m━━━━━━━━━━━━━━━━━━━━\u001b[0m\u001b[37m\u001b[0m \u001b[1m10s\u001b[0m 5ms/step - accuracy: 0.3808 - loss: 1.5835 - val_accuracy: 0.4459 - val_loss: 1.4314\n",
      "Epoch 3/30\n",
      "\u001b[1m1795/1795\u001b[0m \u001b[32m━━━━━━━━━━━━━━━━━━━━\u001b[0m\u001b[37m\u001b[0m \u001b[1m10s\u001b[0m 5ms/step - accuracy: 0.4288 - loss: 1.4739 - val_accuracy: 0.4579 - val_loss: 1.4139\n",
      "Epoch 4/30\n",
      "\u001b[1m1795/1795\u001b[0m \u001b[32m━━━━━━━━━━━━━━━━━━━━\u001b[0m\u001b[37m\u001b[0m \u001b[1m10s\u001b[0m 5ms/step - accuracy: 0.4507 - loss: 1.4252 - val_accuracy: 0.4898 - val_loss: 1.3160\n",
      "Epoch 5/30\n",
      "\u001b[1m1795/1795\u001b[0m \u001b[32m━━━━━━━━━━━━━━━━━━━━\u001b[0m\u001b[37m\u001b[0m \u001b[1m9s\u001b[0m 5ms/step - accuracy: 0.4776 - loss: 1.3734 - val_accuracy: 0.5057 - val_loss: 1.2879\n",
      "Epoch 6/30\n",
      "\u001b[1m1795/1795\u001b[0m \u001b[32m━━━━━━━━━━━━━━━━━━━━\u001b[0m\u001b[37m\u001b[0m \u001b[1m9s\u001b[0m 5ms/step - accuracy: 0.4873 - loss: 1.3428 - val_accuracy: 0.5195 - val_loss: 1.2505\n",
      "Epoch 7/30\n",
      "\u001b[1m1795/1795\u001b[0m \u001b[32m━━━━━━━━━━━━━━━━━━━━\u001b[0m\u001b[37m\u001b[0m \u001b[1m9s\u001b[0m 5ms/step - accuracy: 0.5038 - loss: 1.3070 - val_accuracy: 0.5294 - val_loss: 1.2336\n",
      "Epoch 8/30\n",
      "\u001b[1m1795/1795\u001b[0m \u001b[32m━━━━━━━━━━━━━━━━━━━━\u001b[0m\u001b[37m\u001b[0m \u001b[1m10s\u001b[0m 5ms/step - accuracy: 0.5053 - loss: 1.2893 - val_accuracy: 0.5189 - val_loss: 1.2472\n",
      "Epoch 9/30\n",
      "\u001b[1m1795/1795\u001b[0m \u001b[32m━━━━━━━━━━━━━━━━━━━━\u001b[0m\u001b[37m\u001b[0m \u001b[1m10s\u001b[0m 5ms/step - accuracy: 0.5228 - loss: 1.2575 - val_accuracy: 0.5263 - val_loss: 1.2320\n",
      "Epoch 10/30\n",
      "\u001b[1m1795/1795\u001b[0m \u001b[32m━━━━━━━━━━━━━━━━━━━━\u001b[0m\u001b[37m\u001b[0m \u001b[1m10s\u001b[0m 5ms/step - accuracy: 0.5278 - loss: 1.2406 - val_accuracy: 0.5458 - val_loss: 1.1988\n",
      "Epoch 11/30\n",
      "\u001b[1m1795/1795\u001b[0m \u001b[32m━━━━━━━━━━━━━━━━━━━━\u001b[0m\u001b[37m\u001b[0m \u001b[1m10s\u001b[0m 5ms/step - accuracy: 0.5378 - loss: 1.2227 - val_accuracy: 0.5354 - val_loss: 1.2014\n",
      "Epoch 12/30\n",
      "\u001b[1m1795/1795\u001b[0m \u001b[32m━━━━━━━━━━━━━━━━━━━━\u001b[0m\u001b[37m\u001b[0m \u001b[1m9s\u001b[0m 5ms/step - accuracy: 0.5415 - loss: 1.2142 - val_accuracy: 0.5468 - val_loss: 1.1962\n",
      "Epoch 13/30\n",
      "\u001b[1m1795/1795\u001b[0m \u001b[32m━━━━━━━━━━━━━━━━━━━━\u001b[0m\u001b[37m\u001b[0m \u001b[1m9s\u001b[0m 5ms/step - accuracy: 0.5429 - loss: 1.2032 - val_accuracy: 0.5483 - val_loss: 1.1829\n",
      "Epoch 14/30\n",
      "\u001b[1m1795/1795\u001b[0m \u001b[32m━━━━━━━━━━━━━━━━━━━━\u001b[0m\u001b[37m\u001b[0m \u001b[1m9s\u001b[0m 5ms/step - accuracy: 0.5410 - loss: 1.1985 - val_accuracy: 0.5474 - val_loss: 1.1915\n",
      "Epoch 15/30\n",
      "\u001b[1m1795/1795\u001b[0m \u001b[32m━━━━━━━━━━━━━━━━━━━━\u001b[0m\u001b[37m\u001b[0m \u001b[1m10s\u001b[0m 5ms/step - accuracy: 0.5566 - loss: 1.1686 - val_accuracy: 0.5564 - val_loss: 1.1757\n",
      "Epoch 16/30\n",
      "\u001b[1m1795/1795\u001b[0m \u001b[32m━━━━━━━━━━━━━━━━━━━━\u001b[0m\u001b[37m\u001b[0m \u001b[1m10s\u001b[0m 5ms/step - accuracy: 0.5606 - loss: 1.1540 - val_accuracy: 0.5566 - val_loss: 1.1744\n",
      "Epoch 17/30\n",
      "\u001b[1m1795/1795\u001b[0m \u001b[32m━━━━━━━━━━━━━━━━━━━━\u001b[0m\u001b[37m\u001b[0m \u001b[1m10s\u001b[0m 5ms/step - accuracy: 0.5674 - loss: 1.1467 - val_accuracy: 0.5517 - val_loss: 1.1662\n",
      "Epoch 18/30\n",
      "\u001b[1m1795/1795\u001b[0m \u001b[32m━━━━━━━━━━━━━━━━━━━━\u001b[0m\u001b[37m\u001b[0m \u001b[1m10s\u001b[0m 5ms/step - accuracy: 0.5743 - loss: 1.1289 - val_accuracy: 0.5465 - val_loss: 1.1839\n",
      "Epoch 19/30\n",
      "\u001b[1m1795/1795\u001b[0m \u001b[32m━━━━━━━━━━━━━━━━━━━━\u001b[0m\u001b[37m\u001b[0m \u001b[1m10s\u001b[0m 5ms/step - accuracy: 0.5750 - loss: 1.1201 - val_accuracy: 0.5543 - val_loss: 1.1695\n",
      "Epoch 20/30\n",
      "\u001b[1m1795/1795\u001b[0m \u001b[32m━━━━━━━━━━━━━━━━━━━━\u001b[0m\u001b[37m\u001b[0m \u001b[1m10s\u001b[0m 5ms/step - accuracy: 0.5839 - loss: 1.1070 - val_accuracy: 0.5577 - val_loss: 1.1614\n",
      "Epoch 21/30\n",
      "\u001b[1m1795/1795\u001b[0m \u001b[32m━━━━━━━━━━━━━━━━━━━━\u001b[0m\u001b[37m\u001b[0m \u001b[1m10s\u001b[0m 5ms/step - accuracy: 0.5868 - loss: 1.0995 - val_accuracy: 0.5605 - val_loss: 1.1657\n",
      "Epoch 22/30\n",
      "\u001b[1m1795/1795\u001b[0m \u001b[32m━━━━━━━━━━━━━━━━━━━━\u001b[0m\u001b[37m\u001b[0m \u001b[1m10s\u001b[0m 5ms/step - accuracy: 0.5893 - loss: 1.0924 - val_accuracy: 0.5667 - val_loss: 1.1463\n",
      "Epoch 23/30\n",
      "\u001b[1m1795/1795\u001b[0m \u001b[32m━━━━━━━━━━━━━━━━━━━━\u001b[0m\u001b[37m\u001b[0m \u001b[1m10s\u001b[0m 5ms/step - accuracy: 0.5988 - loss: 1.0777 - val_accuracy: 0.5651 - val_loss: 1.1610\n",
      "Epoch 24/30\n",
      "\u001b[1m1795/1795\u001b[0m \u001b[32m━━━━━━━━━━━━━━━━━━━━\u001b[0m\u001b[37m\u001b[0m \u001b[1m10s\u001b[0m 5ms/step - accuracy: 0.5949 - loss: 1.0700 - val_accuracy: 0.5652 - val_loss: 1.1575\n",
      "Epoch 25/30\n",
      "\u001b[1m1795/1795\u001b[0m \u001b[32m━━━━━━━━━━━━━━━━━━━━\u001b[0m\u001b[37m\u001b[0m \u001b[1m10s\u001b[0m 5ms/step - accuracy: 0.5991 - loss: 1.0661 - val_accuracy: 0.5688 - val_loss: 1.1448\n",
      "Epoch 26/30\n",
      "\u001b[1m1795/1795\u001b[0m \u001b[32m━━━━━━━━━━━━━━━━━━━━\u001b[0m\u001b[37m\u001b[0m \u001b[1m10s\u001b[0m 5ms/step - accuracy: 0.6074 - loss: 1.0465 - val_accuracy: 0.5648 - val_loss: 1.1604\n",
      "Epoch 27/30\n",
      "\u001b[1m1795/1795\u001b[0m \u001b[32m━━━━━━━━━━━━━━━━━━━━\u001b[0m\u001b[37m\u001b[0m \u001b[1m10s\u001b[0m 5ms/step - accuracy: 0.6031 - loss: 1.0480 - val_accuracy: 0.5676 - val_loss: 1.1486\n",
      "Epoch 28/30\n",
      "\u001b[1m1795/1795\u001b[0m \u001b[32m━━━━━━━━━━━━━━━━━━━━\u001b[0m\u001b[37m\u001b[0m \u001b[1m10s\u001b[0m 6ms/step - accuracy: 0.6078 - loss: 1.0475 - val_accuracy: 0.5620 - val_loss: 1.1542\n",
      "Epoch 29/30\n",
      "\u001b[1m1795/1795\u001b[0m \u001b[32m━━━━━━━━━━━━━━━━━━━━\u001b[0m\u001b[37m\u001b[0m \u001b[1m10s\u001b[0m 5ms/step - accuracy: 0.6117 - loss: 1.0282 - val_accuracy: 0.5673 - val_loss: 1.1469\n",
      "Epoch 30/30\n",
      "\u001b[1m1795/1795\u001b[0m \u001b[32m━━━━━━━━━━━━━━━━━━━━\u001b[0m\u001b[37m\u001b[0m \u001b[1m10s\u001b[0m 5ms/step - accuracy: 0.6152 - loss: 1.0224 - val_accuracy: 0.5666 - val_loss: 1.1495\n"
     ]
    },
    {
     "data": {
      "text/plain": [
       "<keras.src.callbacks.history.History at 0x7db828488ca0>"
      ]
     },
     "execution_count": 11,
     "metadata": {},
     "output_type": "execute_result"
    }
   ],
   "source": [
    "model.fit(train_images,validation_data=test_images,batch_size=32,shuffle=True,epochs=30)"
   ]
  },
  {
   "cell_type": "code",
   "execution_count": 12,
   "id": "3e261df4",
   "metadata": {
    "execution": {
     "iopub.execute_input": "2025-01-04T16:26:51.661403Z",
     "iopub.status.busy": "2025-01-04T16:26:51.661097Z",
     "iopub.status.idle": "2025-01-04T16:26:53.222571Z",
     "shell.execute_reply": "2025-01-04T16:26:53.221696Z"
    },
    "papermill": {
     "duration": 1.800062,
     "end_time": "2025-01-04T16:26:53.223763",
     "exception": false,
     "start_time": "2025-01-04T16:26:51.423701",
     "status": "completed"
    },
    "tags": []
   },
   "outputs": [
    {
     "name": "stdout",
     "output_type": "stream",
     "text": [
      "\u001b[1m449/449\u001b[0m \u001b[32m━━━━━━━━━━━━━━━━━━━━\u001b[0m\u001b[37m\u001b[0m \u001b[1m2s\u001b[0m 3ms/step - accuracy: 0.5613 - loss: 1.1651\n"
     ]
    },
    {
     "data": {
      "text/plain": [
       "[1.1495296955108643, 0.5665923953056335]"
      ]
     },
     "execution_count": 12,
     "metadata": {},
     "output_type": "execute_result"
    }
   ],
   "source": [
    "model.evaluate(test_images)"
   ]
  },
  {
   "cell_type": "code",
   "execution_count": null,
   "id": "452f18f7",
   "metadata": {
    "papermill": {
     "duration": 0.276962,
     "end_time": "2025-01-04T16:26:53.734287",
     "exception": false,
     "start_time": "2025-01-04T16:26:53.457325",
     "status": "completed"
    },
    "tags": []
   },
   "outputs": [],
   "source": []
  }
 ],
 "metadata": {
  "kaggle": {
   "accelerator": "nvidiaTeslaT4",
   "dataSources": [
    {
     "datasetId": 786787,
     "sourceId": 1351797,
     "sourceType": "datasetVersion"
    }
   ],
   "dockerImageVersionId": 30823,
   "isGpuEnabled": true,
   "isInternetEnabled": true,
   "language": "python",
   "sourceType": "notebook"
  },
  "kernelspec": {
   "display_name": "Python 3",
   "language": "python",
   "name": "python3"
  },
  "language_info": {
   "codemirror_mode": {
    "name": "ipython",
    "version": 3
   },
   "file_extension": ".py",
   "mimetype": "text/x-python",
   "name": "python",
   "nbconvert_exporter": "python",
   "pygments_lexer": "ipython3",
   "version": "3.10.12"
  },
  "papermill": {
   "default_parameters": {},
   "duration": 455.901098,
   "end_time": "2025-01-04T16:26:56.640668",
   "environment_variables": {},
   "exception": null,
   "input_path": "__notebook__.ipynb",
   "output_path": "__notebook__.ipynb",
   "parameters": {},
   "start_time": "2025-01-04T16:19:20.739570",
   "version": "2.6.0"
  }
 },
 "nbformat": 4,
 "nbformat_minor": 5
}
